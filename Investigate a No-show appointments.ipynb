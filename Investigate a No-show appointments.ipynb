{
 "cells": [
  {
   "cell_type": "markdown",
   "metadata": {},
   "source": [
    "# Project: Investigate a No-show appointments (Kaggle)\n",
    "\n",
    "## Table of Contents\n",
    "<ul>\n",
    "<li><a href=\"#intro\">Introduction</a></li>\n",
    "<li><a href=\"#wrangling\">Data Wrangling</a></li>\n",
    "<li><a href=\"#eda\">Exploratory Data Analysis</a></li>\n",
    "<li><a href=\"#conclusions\">Conclusions</a></li>\n",
    "</ul>"
   ]
  },
  {
   "cell_type": "markdown",
   "metadata": {},
   "source": [
    "<a id='intro'></a>\n",
    "## Introduction\n",
    "\n",
    "> This dataset collects information from 100k medical appointments in Brazil and is focused on the question of whether or  not patients show up for their appointment. A number of characteristics about the patient are included in each row. This dataset includes 14 columns. Lets explore our dataset columns:\n",
    ">\n",
    "><li> PatientId: tells us the patient id.</li>\n",
    "><li> AppointmentID : tells us the id of the appointment.</li>\n",
    "><li> Gender: tells us the gender of the patient M for male or F for female.</li>   \n",
    "><li> ScheduledDay: tells us on what day the patient set up their appointment.</li>\n",
    "><li> AppointmentDay: tells us when the patient called to register the appoitment.</li>  \n",
    "><li> Age: tells us the age of the patient. we can ask a question which ages don't show up for thier appointments.</li>     \n",
    "><li> Neighborhood: tells us the location of the hospital.</li>\n",
    "><li> Scholarship: tells us whether or not the patient is enrolled in Brasilian welfare program Bolsa Família.</li>\n",
    "><li> Hipertension: tells us if the patient suffer from Hipertension or not.</li>\n",
    "><li> Diabetes: tells us if the patient suffers from Diabetes or not.</li>\n",
    "><li> Alcoholism: tells us if the patient suffers from Alcoholism or not.</li>\n",
    "><li> Handcap: tells us if the patient is Handcap or not.</li>\n",
    "><li> SMS_received: tells us if the patient received a message or not.</li>    \n",
    "><li> No-show: Be careful about the encoding of the last column: it says 'No' if the patient showed up to their                  appointment, and'Yes' if they did not show up.</li>"
   ]
  },
  {
   "cell_type": "code",
   "execution_count": 1,
   "metadata": {},
   "outputs": [],
   "source": [
    "import pandas as pd\n",
    "import numpy as np\n",
    "import matplotlib.pyplot as plt\n",
    "%matplotlib inline"
   ]
  },
  {
   "cell_type": "markdown",
   "metadata": {},
   "source": [
    "<a id='wrangling'></a>\n",
    "## Data Wrangling"
   ]
  },
  {
   "cell_type": "markdown",
   "metadata": {},
   "source": [
    "### Data Assesment for No-show appointments\n",
    "#### Visual Assesment"
   ]
  },
  {
   "cell_type": "markdown",
   "metadata": {},
   "source": [
    "> In the following cell I will show the 1st 30 element from the dataframe."
   ]
  },
  {
   "cell_type": "code",
   "execution_count": 2,
   "metadata": {
    "scrolled": false
   },
   "outputs": [
    {
     "data": {
      "text/html": [
       "<div>\n",
       "<style scoped>\n",
       "    .dataframe tbody tr th:only-of-type {\n",
       "        vertical-align: middle;\n",
       "    }\n",
       "\n",
       "    .dataframe tbody tr th {\n",
       "        vertical-align: top;\n",
       "    }\n",
       "\n",
       "    .dataframe thead th {\n",
       "        text-align: right;\n",
       "    }\n",
       "</style>\n",
       "<table border=\"1\" class=\"dataframe\">\n",
       "  <thead>\n",
       "    <tr style=\"text-align: right;\">\n",
       "      <th></th>\n",
       "      <th>PatientId</th>\n",
       "      <th>AppointmentID</th>\n",
       "      <th>Gender</th>\n",
       "      <th>ScheduledDay</th>\n",
       "      <th>AppointmentDay</th>\n",
       "      <th>Age</th>\n",
       "      <th>Neighbourhood</th>\n",
       "      <th>Scholarship</th>\n",
       "      <th>Hipertension</th>\n",
       "      <th>Diabetes</th>\n",
       "      <th>Alcoholism</th>\n",
       "      <th>Handcap</th>\n",
       "      <th>SMS_received</th>\n",
       "      <th>No-show</th>\n",
       "    </tr>\n",
       "  </thead>\n",
       "  <tbody>\n",
       "    <tr>\n",
       "      <th>0</th>\n",
       "      <td>2.987250e+13</td>\n",
       "      <td>5642903</td>\n",
       "      <td>F</td>\n",
       "      <td>2016-04-29T18:38:08Z</td>\n",
       "      <td>2016-04-29T00:00:00Z</td>\n",
       "      <td>62</td>\n",
       "      <td>JARDIM DA PENHA</td>\n",
       "      <td>0</td>\n",
       "      <td>1</td>\n",
       "      <td>0</td>\n",
       "      <td>0</td>\n",
       "      <td>0</td>\n",
       "      <td>0</td>\n",
       "      <td>No</td>\n",
       "    </tr>\n",
       "    <tr>\n",
       "      <th>1</th>\n",
       "      <td>5.589978e+14</td>\n",
       "      <td>5642503</td>\n",
       "      <td>M</td>\n",
       "      <td>2016-04-29T16:08:27Z</td>\n",
       "      <td>2016-04-29T00:00:00Z</td>\n",
       "      <td>56</td>\n",
       "      <td>JARDIM DA PENHA</td>\n",
       "      <td>0</td>\n",
       "      <td>0</td>\n",
       "      <td>0</td>\n",
       "      <td>0</td>\n",
       "      <td>0</td>\n",
       "      <td>0</td>\n",
       "      <td>No</td>\n",
       "    </tr>\n",
       "    <tr>\n",
       "      <th>2</th>\n",
       "      <td>4.262962e+12</td>\n",
       "      <td>5642549</td>\n",
       "      <td>F</td>\n",
       "      <td>2016-04-29T16:19:04Z</td>\n",
       "      <td>2016-04-29T00:00:00Z</td>\n",
       "      <td>62</td>\n",
       "      <td>MATA DA PRAIA</td>\n",
       "      <td>0</td>\n",
       "      <td>0</td>\n",
       "      <td>0</td>\n",
       "      <td>0</td>\n",
       "      <td>0</td>\n",
       "      <td>0</td>\n",
       "      <td>No</td>\n",
       "    </tr>\n",
       "    <tr>\n",
       "      <th>3</th>\n",
       "      <td>8.679512e+11</td>\n",
       "      <td>5642828</td>\n",
       "      <td>F</td>\n",
       "      <td>2016-04-29T17:29:31Z</td>\n",
       "      <td>2016-04-29T00:00:00Z</td>\n",
       "      <td>8</td>\n",
       "      <td>PONTAL DE CAMBURI</td>\n",
       "      <td>0</td>\n",
       "      <td>0</td>\n",
       "      <td>0</td>\n",
       "      <td>0</td>\n",
       "      <td>0</td>\n",
       "      <td>0</td>\n",
       "      <td>No</td>\n",
       "    </tr>\n",
       "    <tr>\n",
       "      <th>4</th>\n",
       "      <td>8.841186e+12</td>\n",
       "      <td>5642494</td>\n",
       "      <td>F</td>\n",
       "      <td>2016-04-29T16:07:23Z</td>\n",
       "      <td>2016-04-29T00:00:00Z</td>\n",
       "      <td>56</td>\n",
       "      <td>JARDIM DA PENHA</td>\n",
       "      <td>0</td>\n",
       "      <td>1</td>\n",
       "      <td>1</td>\n",
       "      <td>0</td>\n",
       "      <td>0</td>\n",
       "      <td>0</td>\n",
       "      <td>No</td>\n",
       "    </tr>\n",
       "  </tbody>\n",
       "</table>\n",
       "</div>"
      ],
      "text/plain": [
       "      PatientId  AppointmentID Gender          ScheduledDay  \\\n",
       "0  2.987250e+13        5642903      F  2016-04-29T18:38:08Z   \n",
       "1  5.589978e+14        5642503      M  2016-04-29T16:08:27Z   \n",
       "2  4.262962e+12        5642549      F  2016-04-29T16:19:04Z   \n",
       "3  8.679512e+11        5642828      F  2016-04-29T17:29:31Z   \n",
       "4  8.841186e+12        5642494      F  2016-04-29T16:07:23Z   \n",
       "\n",
       "         AppointmentDay  Age      Neighbourhood  Scholarship  Hipertension  \\\n",
       "0  2016-04-29T00:00:00Z   62    JARDIM DA PENHA            0             1   \n",
       "1  2016-04-29T00:00:00Z   56    JARDIM DA PENHA            0             0   \n",
       "2  2016-04-29T00:00:00Z   62      MATA DA PRAIA            0             0   \n",
       "3  2016-04-29T00:00:00Z    8  PONTAL DE CAMBURI            0             0   \n",
       "4  2016-04-29T00:00:00Z   56    JARDIM DA PENHA            0             1   \n",
       "\n",
       "   Diabetes  Alcoholism  Handcap  SMS_received No-show  \n",
       "0         0           0        0             0      No  \n",
       "1         0           0        0             0      No  \n",
       "2         0           0        0             0      No  \n",
       "3         0           0        0             0      No  \n",
       "4         1           0        0             0      No  "
      ]
     },
     "execution_count": 2,
     "metadata": {},
     "output_type": "execute_result"
    }
   ],
   "source": [
    "df = pd.read_csv('KaggleV2-May-2016.csv')\n",
    "df.head(5)\n"
   ]
  },
  {
   "cell_type": "code",
   "execution_count": 3,
   "metadata": {},
   "outputs": [
    {
     "data": {
      "text/html": [
       "<div>\n",
       "<style scoped>\n",
       "    .dataframe tbody tr th:only-of-type {\n",
       "        vertical-align: middle;\n",
       "    }\n",
       "\n",
       "    .dataframe tbody tr th {\n",
       "        vertical-align: top;\n",
       "    }\n",
       "\n",
       "    .dataframe thead th {\n",
       "        text-align: right;\n",
       "    }\n",
       "</style>\n",
       "<table border=\"1\" class=\"dataframe\">\n",
       "  <thead>\n",
       "    <tr style=\"text-align: right;\">\n",
       "      <th></th>\n",
       "      <th>PatientId</th>\n",
       "      <th>AppointmentID</th>\n",
       "      <th>Gender</th>\n",
       "      <th>ScheduledDay</th>\n",
       "      <th>AppointmentDay</th>\n",
       "      <th>Age</th>\n",
       "      <th>Neighbourhood</th>\n",
       "      <th>Scholarship</th>\n",
       "      <th>Hipertension</th>\n",
       "      <th>Diabetes</th>\n",
       "      <th>Alcoholism</th>\n",
       "      <th>Handcap</th>\n",
       "      <th>SMS_received</th>\n",
       "      <th>No-show</th>\n",
       "    </tr>\n",
       "  </thead>\n",
       "  <tbody>\n",
       "    <tr>\n",
       "      <th>40625</th>\n",
       "      <td>6.677117e+10</td>\n",
       "      <td>5636048</td>\n",
       "      <td>F</td>\n",
       "      <td>2016-04-28T14:28:35Z</td>\n",
       "      <td>2016-05-11T00:00:00Z</td>\n",
       "      <td>12</td>\n",
       "      <td>SANTO ANDRÉ</td>\n",
       "      <td>0</td>\n",
       "      <td>0</td>\n",
       "      <td>0</td>\n",
       "      <td>0</td>\n",
       "      <td>0</td>\n",
       "      <td>1</td>\n",
       "      <td>No</td>\n",
       "    </tr>\n",
       "    <tr>\n",
       "      <th>95353</th>\n",
       "      <td>8.395192e+14</td>\n",
       "      <td>5778313</td>\n",
       "      <td>M</td>\n",
       "      <td>2016-06-06T15:23:11Z</td>\n",
       "      <td>2016-06-06T00:00:00Z</td>\n",
       "      <td>2</td>\n",
       "      <td>BONFIM</td>\n",
       "      <td>0</td>\n",
       "      <td>0</td>\n",
       "      <td>0</td>\n",
       "      <td>0</td>\n",
       "      <td>0</td>\n",
       "      <td>0</td>\n",
       "      <td>No</td>\n",
       "    </tr>\n",
       "    <tr>\n",
       "      <th>79358</th>\n",
       "      <td>7.873373e+14</td>\n",
       "      <td>5711649</td>\n",
       "      <td>F</td>\n",
       "      <td>2016-05-18T07:54:50Z</td>\n",
       "      <td>2016-05-18T00:00:00Z</td>\n",
       "      <td>65</td>\n",
       "      <td>BONFIM</td>\n",
       "      <td>1</td>\n",
       "      <td>0</td>\n",
       "      <td>0</td>\n",
       "      <td>1</td>\n",
       "      <td>0</td>\n",
       "      <td>0</td>\n",
       "      <td>No</td>\n",
       "    </tr>\n",
       "    <tr>\n",
       "      <th>83830</th>\n",
       "      <td>9.694349e+13</td>\n",
       "      <td>5648240</td>\n",
       "      <td>F</td>\n",
       "      <td>2016-05-02T15:16:57Z</td>\n",
       "      <td>2016-05-02T00:00:00Z</td>\n",
       "      <td>54</td>\n",
       "      <td>MARUÍPE</td>\n",
       "      <td>0</td>\n",
       "      <td>0</td>\n",
       "      <td>0</td>\n",
       "      <td>0</td>\n",
       "      <td>0</td>\n",
       "      <td>0</td>\n",
       "      <td>No</td>\n",
       "    </tr>\n",
       "    <tr>\n",
       "      <th>88519</th>\n",
       "      <td>7.247140e+13</td>\n",
       "      <td>5753320</td>\n",
       "      <td>M</td>\n",
       "      <td>2016-05-31T13:51:58Z</td>\n",
       "      <td>2016-06-03T00:00:00Z</td>\n",
       "      <td>60</td>\n",
       "      <td>CRUZAMENTO</td>\n",
       "      <td>0</td>\n",
       "      <td>1</td>\n",
       "      <td>0</td>\n",
       "      <td>0</td>\n",
       "      <td>0</td>\n",
       "      <td>1</td>\n",
       "      <td>No</td>\n",
       "    </tr>\n",
       "    <tr>\n",
       "      <th>26051</th>\n",
       "      <td>1.439499e+14</td>\n",
       "      <td>5612945</td>\n",
       "      <td>F</td>\n",
       "      <td>2016-04-25T08:50:50Z</td>\n",
       "      <td>2016-05-12T00:00:00Z</td>\n",
       "      <td>45</td>\n",
       "      <td>SANTO ANTÔNIO</td>\n",
       "      <td>0</td>\n",
       "      <td>0</td>\n",
       "      <td>0</td>\n",
       "      <td>0</td>\n",
       "      <td>0</td>\n",
       "      <td>1</td>\n",
       "      <td>No</td>\n",
       "    </tr>\n",
       "    <tr>\n",
       "      <th>48864</th>\n",
       "      <td>7.437336e+14</td>\n",
       "      <td>5602969</td>\n",
       "      <td>F</td>\n",
       "      <td>2016-04-19T16:12:51Z</td>\n",
       "      <td>2016-05-03T00:00:00Z</td>\n",
       "      <td>38</td>\n",
       "      <td>CENTRO</td>\n",
       "      <td>0</td>\n",
       "      <td>0</td>\n",
       "      <td>0</td>\n",
       "      <td>0</td>\n",
       "      <td>0</td>\n",
       "      <td>1</td>\n",
       "      <td>No</td>\n",
       "    </tr>\n",
       "    <tr>\n",
       "      <th>107587</th>\n",
       "      <td>1.866841e+10</td>\n",
       "      <td>5647055</td>\n",
       "      <td>M</td>\n",
       "      <td>2016-05-02T12:39:03Z</td>\n",
       "      <td>2016-06-02T00:00:00Z</td>\n",
       "      <td>0</td>\n",
       "      <td>ILHA DE SANTA MARIA</td>\n",
       "      <td>0</td>\n",
       "      <td>0</td>\n",
       "      <td>0</td>\n",
       "      <td>0</td>\n",
       "      <td>0</td>\n",
       "      <td>1</td>\n",
       "      <td>No</td>\n",
       "    </tr>\n",
       "    <tr>\n",
       "      <th>92186</th>\n",
       "      <td>1.188280e+13</td>\n",
       "      <td>5777883</td>\n",
       "      <td>M</td>\n",
       "      <td>2016-06-06T14:41:28Z</td>\n",
       "      <td>2016-06-07T00:00:00Z</td>\n",
       "      <td>0</td>\n",
       "      <td>SÃO BENEDITO</td>\n",
       "      <td>0</td>\n",
       "      <td>0</td>\n",
       "      <td>0</td>\n",
       "      <td>0</td>\n",
       "      <td>0</td>\n",
       "      <td>0</td>\n",
       "      <td>No</td>\n",
       "    </tr>\n",
       "    <tr>\n",
       "      <th>3559</th>\n",
       "      <td>2.758290e+14</td>\n",
       "      <td>5701729</td>\n",
       "      <td>F</td>\n",
       "      <td>2016-05-16T10:55:10Z</td>\n",
       "      <td>2016-05-24T00:00:00Z</td>\n",
       "      <td>33</td>\n",
       "      <td>RESISTÊNCIA</td>\n",
       "      <td>0</td>\n",
       "      <td>0</td>\n",
       "      <td>0</td>\n",
       "      <td>0</td>\n",
       "      <td>0</td>\n",
       "      <td>1</td>\n",
       "      <td>No</td>\n",
       "    </tr>\n",
       "  </tbody>\n",
       "</table>\n",
       "</div>"
      ],
      "text/plain": [
       "           PatientId  AppointmentID Gender          ScheduledDay  \\\n",
       "40625   6.677117e+10        5636048      F  2016-04-28T14:28:35Z   \n",
       "95353   8.395192e+14        5778313      M  2016-06-06T15:23:11Z   \n",
       "79358   7.873373e+14        5711649      F  2016-05-18T07:54:50Z   \n",
       "83830   9.694349e+13        5648240      F  2016-05-02T15:16:57Z   \n",
       "88519   7.247140e+13        5753320      M  2016-05-31T13:51:58Z   \n",
       "26051   1.439499e+14        5612945      F  2016-04-25T08:50:50Z   \n",
       "48864   7.437336e+14        5602969      F  2016-04-19T16:12:51Z   \n",
       "107587  1.866841e+10        5647055      M  2016-05-02T12:39:03Z   \n",
       "92186   1.188280e+13        5777883      M  2016-06-06T14:41:28Z   \n",
       "3559    2.758290e+14        5701729      F  2016-05-16T10:55:10Z   \n",
       "\n",
       "              AppointmentDay  Age        Neighbourhood  Scholarship  \\\n",
       "40625   2016-05-11T00:00:00Z   12          SANTO ANDRÉ            0   \n",
       "95353   2016-06-06T00:00:00Z    2               BONFIM            0   \n",
       "79358   2016-05-18T00:00:00Z   65               BONFIM            1   \n",
       "83830   2016-05-02T00:00:00Z   54              MARUÍPE            0   \n",
       "88519   2016-06-03T00:00:00Z   60           CRUZAMENTO            0   \n",
       "26051   2016-05-12T00:00:00Z   45        SANTO ANTÔNIO            0   \n",
       "48864   2016-05-03T00:00:00Z   38               CENTRO            0   \n",
       "107587  2016-06-02T00:00:00Z    0  ILHA DE SANTA MARIA            0   \n",
       "92186   2016-06-07T00:00:00Z    0         SÃO BENEDITO            0   \n",
       "3559    2016-05-24T00:00:00Z   33          RESISTÊNCIA            0   \n",
       "\n",
       "        Hipertension  Diabetes  Alcoholism  Handcap  SMS_received No-show  \n",
       "40625              0         0           0        0             1      No  \n",
       "95353              0         0           0        0             0      No  \n",
       "79358              0         0           1        0             0      No  \n",
       "83830              0         0           0        0             0      No  \n",
       "88519              1         0           0        0             1      No  \n",
       "26051              0         0           0        0             1      No  \n",
       "48864              0         0           0        0             1      No  \n",
       "107587             0         0           0        0             1      No  \n",
       "92186              0         0           0        0             0      No  \n",
       "3559               0         0           0        0             1      No  "
      ]
     },
     "execution_count": 3,
     "metadata": {},
     "output_type": "execute_result"
    }
   ],
   "source": [
    "df.sample(10)"
   ]
  },
  {
   "cell_type": "markdown",
   "metadata": {},
   "source": [
    "#### Programatic Assesment"
   ]
  },
  {
   "cell_type": "markdown",
   "metadata": {},
   "source": [
    ">With info I could know the shape of the table, the data type of each column, the count of null values."
   ]
  },
  {
   "cell_type": "code",
   "execution_count": 4,
   "metadata": {
    "scrolled": true
   },
   "outputs": [
    {
     "name": "stdout",
     "output_type": "stream",
     "text": [
      "<class 'pandas.core.frame.DataFrame'>\n",
      "RangeIndex: 110527 entries, 0 to 110526\n",
      "Data columns (total 14 columns):\n",
      " #   Column          Non-Null Count   Dtype  \n",
      "---  ------          --------------   -----  \n",
      " 0   PatientId       110527 non-null  float64\n",
      " 1   AppointmentID   110527 non-null  int64  \n",
      " 2   Gender          110527 non-null  object \n",
      " 3   ScheduledDay    110527 non-null  object \n",
      " 4   AppointmentDay  110527 non-null  object \n",
      " 5   Age             110527 non-null  int64  \n",
      " 6   Neighbourhood   110527 non-null  object \n",
      " 7   Scholarship     110527 non-null  int64  \n",
      " 8   Hipertension    110527 non-null  int64  \n",
      " 9   Diabetes        110527 non-null  int64  \n",
      " 10  Alcoholism      110527 non-null  int64  \n",
      " 11  Handcap         110527 non-null  int64  \n",
      " 12  SMS_received    110527 non-null  int64  \n",
      " 13  No-show         110527 non-null  object \n",
      "dtypes: float64(1), int64(8), object(5)\n",
      "memory usage: 11.8+ MB\n"
     ]
    }
   ],
   "source": [
    "df.info()"
   ]
  },
  {
   "cell_type": "markdown",
   "metadata": {},
   "source": [
    "Now, I check if there is any duplicate values."
   ]
  },
  {
   "cell_type": "code",
   "execution_count": 5,
   "metadata": {
    "scrolled": false
   },
   "outputs": [
    {
     "data": {
      "text/plain": [
       "0"
      ]
     },
     "execution_count": 5,
     "metadata": {},
     "output_type": "execute_result"
    }
   ],
   "source": [
    "df.duplicated().sum()"
   ]
  },
  {
   "cell_type": "markdown",
   "metadata": {},
   "source": [
    "Now I explore each column unique values counts"
   ]
  },
  {
   "cell_type": "code",
   "execution_count": 6,
   "metadata": {},
   "outputs": [
    {
     "data": {
      "text/plain": [
       "5769215    1\n",
       "5731652    1\n",
       "5707080    1\n",
       "5702986    1\n",
       "5715276    1\n",
       "          ..\n",
       "5586290    1\n",
       "5584243    1\n",
       "5598584    1\n",
       "5602682    1\n",
       "5771266    1\n",
       "Name: AppointmentID, Length: 110527, dtype: int64"
      ]
     },
     "execution_count": 6,
     "metadata": {},
     "output_type": "execute_result"
    }
   ],
   "source": [
    "df.AppointmentID.value_counts()"
   ]
  },
  {
   "cell_type": "code",
   "execution_count": 7,
   "metadata": {
    "scrolled": true
   },
   "outputs": [
    {
     "data": {
      "text/plain": [
       "F    71840\n",
       "M    38687\n",
       "Name: Gender, dtype: int64"
      ]
     },
     "execution_count": 7,
     "metadata": {},
     "output_type": "execute_result"
    }
   ],
   "source": [
    "df.Gender.value_counts()"
   ]
  },
  {
   "cell_type": "code",
   "execution_count": 8,
   "metadata": {
    "scrolled": true
   },
   "outputs": [
    {
     "data": {
      "text/plain": [
       "2016-05-06T07:09:54Z    24\n",
       "2016-05-06T07:09:53Z    23\n",
       "2016-04-25T17:17:46Z    22\n",
       "2016-04-25T17:18:27Z    22\n",
       "2016-04-25T17:17:23Z    19\n",
       "                        ..\n",
       "2016-05-17T12:17:46Z     1\n",
       "2016-03-14T13:03:08Z     1\n",
       "2016-04-14T19:18:39Z     1\n",
       "2016-04-27T07:27:29Z     1\n",
       "2016-04-29T09:03:05Z     1\n",
       "Name: ScheduledDay, Length: 103549, dtype: int64"
      ]
     },
     "execution_count": 8,
     "metadata": {},
     "output_type": "execute_result"
    }
   ],
   "source": [
    "df.ScheduledDay.value_counts()"
   ]
  },
  {
   "cell_type": "code",
   "execution_count": 9,
   "metadata": {
    "scrolled": true
   },
   "outputs": [
    {
     "data": {
      "text/plain": [
       "2016-06-06T00:00:00Z    4692\n",
       "2016-05-16T00:00:00Z    4613\n",
       "2016-05-09T00:00:00Z    4520\n",
       "2016-05-30T00:00:00Z    4514\n",
       "2016-06-08T00:00:00Z    4479\n",
       "2016-05-11T00:00:00Z    4474\n",
       "2016-06-01T00:00:00Z    4464\n",
       "2016-06-07T00:00:00Z    4416\n",
       "2016-05-12T00:00:00Z    4394\n",
       "2016-05-02T00:00:00Z    4376\n",
       "2016-05-18T00:00:00Z    4373\n",
       "2016-05-17T00:00:00Z    4372\n",
       "2016-06-02T00:00:00Z    4310\n",
       "2016-05-10T00:00:00Z    4308\n",
       "2016-05-31T00:00:00Z    4279\n",
       "2016-05-05T00:00:00Z    4273\n",
       "2016-05-19T00:00:00Z    4270\n",
       "2016-05-03T00:00:00Z    4256\n",
       "2016-05-04T00:00:00Z    4168\n",
       "2016-06-03T00:00:00Z    4090\n",
       "2016-05-24T00:00:00Z    4009\n",
       "2016-05-13T00:00:00Z    3987\n",
       "2016-05-25T00:00:00Z    3909\n",
       "2016-05-06T00:00:00Z    3879\n",
       "2016-05-20T00:00:00Z    3828\n",
       "2016-04-29T00:00:00Z    3235\n",
       "2016-05-14T00:00:00Z      39\n",
       "Name: AppointmentDay, dtype: int64"
      ]
     },
     "execution_count": 9,
     "metadata": {},
     "output_type": "execute_result"
    }
   ],
   "source": [
    "df.AppointmentDay.value_counts()"
   ]
  },
  {
   "cell_type": "code",
   "execution_count": 10,
   "metadata": {},
   "outputs": [
    {
     "data": {
      "text/plain": [
       " 0      3539\n",
       " 1      2273\n",
       " 52     1746\n",
       " 49     1652\n",
       " 53     1651\n",
       "        ... \n",
       " 115       5\n",
       " 100       4\n",
       " 102       2\n",
       " 99        1\n",
       "-1         1\n",
       "Name: Age, Length: 104, dtype: int64"
      ]
     },
     "execution_count": 10,
     "metadata": {},
     "output_type": "execute_result"
    }
   ],
   "source": [
    "df.Age.value_counts()"
   ]
  },
  {
   "cell_type": "code",
   "execution_count": 11,
   "metadata": {
    "scrolled": false
   },
   "outputs": [
    {
     "data": {
      "text/plain": [
       "count    110527.000000\n",
       "mean         37.088874\n",
       "std          23.110205\n",
       "min          -1.000000\n",
       "25%          18.000000\n",
       "50%          37.000000\n",
       "75%          55.000000\n",
       "max         115.000000\n",
       "Name: Age, dtype: float64"
      ]
     },
     "execution_count": 11,
     "metadata": {},
     "output_type": "execute_result"
    }
   ],
   "source": [
    "df.Age.describe()"
   ]
  },
  {
   "cell_type": "code",
   "execution_count": 12,
   "metadata": {
    "scrolled": true
   },
   "outputs": [
    {
     "data": {
      "text/html": [
       "<div>\n",
       "<style scoped>\n",
       "    .dataframe tbody tr th:only-of-type {\n",
       "        vertical-align: middle;\n",
       "    }\n",
       "\n",
       "    .dataframe tbody tr th {\n",
       "        vertical-align: top;\n",
       "    }\n",
       "\n",
       "    .dataframe thead th {\n",
       "        text-align: right;\n",
       "    }\n",
       "</style>\n",
       "<table border=\"1\" class=\"dataframe\">\n",
       "  <thead>\n",
       "    <tr style=\"text-align: right;\">\n",
       "      <th></th>\n",
       "      <th>PatientId</th>\n",
       "      <th>AppointmentID</th>\n",
       "      <th>Gender</th>\n",
       "      <th>ScheduledDay</th>\n",
       "      <th>AppointmentDay</th>\n",
       "      <th>Age</th>\n",
       "      <th>Neighbourhood</th>\n",
       "      <th>Scholarship</th>\n",
       "      <th>Hipertension</th>\n",
       "      <th>Diabetes</th>\n",
       "      <th>Alcoholism</th>\n",
       "      <th>Handcap</th>\n",
       "      <th>SMS_received</th>\n",
       "      <th>No-show</th>\n",
       "    </tr>\n",
       "  </thead>\n",
       "  <tbody>\n",
       "    <tr>\n",
       "      <th>99832</th>\n",
       "      <td>4.659432e+14</td>\n",
       "      <td>5775010</td>\n",
       "      <td>F</td>\n",
       "      <td>2016-06-06T08:58:13Z</td>\n",
       "      <td>2016-06-06T00:00:00Z</td>\n",
       "      <td>-1</td>\n",
       "      <td>ROMÃO</td>\n",
       "      <td>0</td>\n",
       "      <td>0</td>\n",
       "      <td>0</td>\n",
       "      <td>0</td>\n",
       "      <td>0</td>\n",
       "      <td>0</td>\n",
       "      <td>No</td>\n",
       "    </tr>\n",
       "  </tbody>\n",
       "</table>\n",
       "</div>"
      ],
      "text/plain": [
       "          PatientId  AppointmentID Gender          ScheduledDay  \\\n",
       "99832  4.659432e+14        5775010      F  2016-06-06T08:58:13Z   \n",
       "\n",
       "             AppointmentDay  Age Neighbourhood  Scholarship  Hipertension  \\\n",
       "99832  2016-06-06T00:00:00Z   -1         ROMÃO            0             0   \n",
       "\n",
       "       Diabetes  Alcoholism  Handcap  SMS_received No-show  \n",
       "99832         0           0        0             0      No  "
      ]
     },
     "execution_count": 12,
     "metadata": {},
     "output_type": "execute_result"
    }
   ],
   "source": [
    "df.loc[df['Age'] == -1]"
   ]
  },
  {
   "cell_type": "code",
   "execution_count": 13,
   "metadata": {
    "scrolled": false
   },
   "outputs": [
    {
     "data": {
      "text/plain": [
       "JARDIM CAMBURI                 7717\n",
       "MARIA ORTIZ                    5805\n",
       "RESISTÊNCIA                    4431\n",
       "JARDIM DA PENHA                3877\n",
       "ITARARÉ                        3514\n",
       "                               ... \n",
       "ILHA DO BOI                      35\n",
       "ILHA DO FRADE                    10\n",
       "AEROPORTO                         8\n",
       "ILHAS OCEÂNICAS DE TRINDADE       2\n",
       "PARQUE INDUSTRIAL                 1\n",
       "Name: Neighbourhood, Length: 81, dtype: int64"
      ]
     },
     "execution_count": 13,
     "metadata": {},
     "output_type": "execute_result"
    }
   ],
   "source": [
    "df.Neighbourhood.value_counts()"
   ]
  },
  {
   "cell_type": "code",
   "execution_count": 14,
   "metadata": {
    "scrolled": true
   },
   "outputs": [
    {
     "data": {
      "text/plain": [
       "0    99666\n",
       "1    10861\n",
       "Name: Scholarship, dtype: int64"
      ]
     },
     "execution_count": 14,
     "metadata": {},
     "output_type": "execute_result"
    }
   ],
   "source": [
    "df.Scholarship.value_counts()"
   ]
  },
  {
   "cell_type": "code",
   "execution_count": 15,
   "metadata": {},
   "outputs": [
    {
     "data": {
      "text/plain": [
       "0    88726\n",
       "1    21801\n",
       "Name: Hipertension, dtype: int64"
      ]
     },
     "execution_count": 15,
     "metadata": {},
     "output_type": "execute_result"
    }
   ],
   "source": [
    "df.Hipertension.value_counts()"
   ]
  },
  {
   "cell_type": "code",
   "execution_count": 16,
   "metadata": {},
   "outputs": [
    {
     "data": {
      "text/plain": [
       "0    102584\n",
       "1      7943\n",
       "Name: Diabetes, dtype: int64"
      ]
     },
     "execution_count": 16,
     "metadata": {},
     "output_type": "execute_result"
    }
   ],
   "source": [
    "df.Diabetes.value_counts()"
   ]
  },
  {
   "cell_type": "code",
   "execution_count": 17,
   "metadata": {},
   "outputs": [
    {
     "data": {
      "text/plain": [
       "0    107167\n",
       "1      3360\n",
       "Name: Alcoholism, dtype: int64"
      ]
     },
     "execution_count": 17,
     "metadata": {},
     "output_type": "execute_result"
    }
   ],
   "source": [
    "df.Alcoholism.value_counts()"
   ]
  },
  {
   "cell_type": "code",
   "execution_count": 18,
   "metadata": {
    "scrolled": true
   },
   "outputs": [
    {
     "data": {
      "text/plain": [
       "0    108286\n",
       "1      2042\n",
       "2       183\n",
       "3        13\n",
       "4         3\n",
       "Name: Handcap, dtype: int64"
      ]
     },
     "execution_count": 18,
     "metadata": {},
     "output_type": "execute_result"
    }
   ],
   "source": [
    "df.Handcap.value_counts()"
   ]
  },
  {
   "cell_type": "code",
   "execution_count": 19,
   "metadata": {},
   "outputs": [
    {
     "data": {
      "text/plain": [
       "0    75045\n",
       "1    35482\n",
       "Name: SMS_received, dtype: int64"
      ]
     },
     "execution_count": 19,
     "metadata": {},
     "output_type": "execute_result"
    }
   ],
   "source": [
    "df.SMS_received.value_counts()"
   ]
  },
  {
   "cell_type": "code",
   "execution_count": 20,
   "metadata": {},
   "outputs": [
    {
     "data": {
      "text/plain": [
       "No     88208\n",
       "Yes    22319\n",
       "Name: No-show, dtype: int64"
      ]
     },
     "execution_count": 20,
     "metadata": {},
     "output_type": "execute_result"
    }
   ],
   "source": [
    "df['No-show'].value_counts()"
   ]
  },
  {
   "cell_type": "markdown",
   "metadata": {},
   "source": [
    "#### Assesment Notes:\n",
    "##### Quality:\n",
    "> <li> Incorrect data types of Patientid, and AppointmentID.</li>\n",
    "> <li> incorrect data type of ScheduledDay, AppointmentDay.</li> \n",
    "> <li> Incorrect data type of Gender and Scholarship, and Neighbourhood.</li>\n",
    "> <li> Incorrect naming of No-show columns.</li>\n",
    "> <li> Incorrect values in Handcap column</li>\n",
    "> <li> Incorrect Data type Hipertension, Diabetes, Handcap, Alcoholism, SMS_received, No-show columns.</li>\n",
    "> <li> Incorrect values in Age coluumn (-1)</li>\n",
    "\n",
    "##### Tidiness\n",
    "> <li> Renaming the columns' names to be lower</li>\n"
   ]
  },
  {
   "cell_type": "markdown",
   "metadata": {},
   "source": [
    "### Data Cleaning for No-show appointments\n",
    "#### Incorrect data types of Patientid, and AppointmentID.\n",
    "##### Define\n",
    "> <li> Correct the data type of Patientid, and appointmentID using astype() to string</li>\n",
    "##### Code"
   ]
  },
  {
   "cell_type": "code",
   "execution_count": 21,
   "metadata": {},
   "outputs": [],
   "source": [
    "df_copy = df.copy()"
   ]
  },
  {
   "cell_type": "code",
   "execution_count": 22,
   "metadata": {},
   "outputs": [],
   "source": [
    "df_copy.PatientId = df_copy['PatientId'].astype('str')\n",
    "df_copy.AppointmentID = df_copy['AppointmentID'].astype('str')"
   ]
  },
  {
   "cell_type": "markdown",
   "metadata": {},
   "source": [
    "#### Test\n",
    "> From info(), the data types and the shape of the dataframe."
   ]
  },
  {
   "cell_type": "code",
   "execution_count": 23,
   "metadata": {
    "scrolled": true
   },
   "outputs": [
    {
     "name": "stdout",
     "output_type": "stream",
     "text": [
      "<class 'pandas.core.frame.DataFrame'>\n",
      "RangeIndex: 110527 entries, 0 to 110526\n",
      "Data columns (total 14 columns):\n",
      " #   Column          Non-Null Count   Dtype \n",
      "---  ------          --------------   ----- \n",
      " 0   PatientId       110527 non-null  object\n",
      " 1   AppointmentID   110527 non-null  object\n",
      " 2   Gender          110527 non-null  object\n",
      " 3   ScheduledDay    110527 non-null  object\n",
      " 4   AppointmentDay  110527 non-null  object\n",
      " 5   Age             110527 non-null  int64 \n",
      " 6   Neighbourhood   110527 non-null  object\n",
      " 7   Scholarship     110527 non-null  int64 \n",
      " 8   Hipertension    110527 non-null  int64 \n",
      " 9   Diabetes        110527 non-null  int64 \n",
      " 10  Alcoholism      110527 non-null  int64 \n",
      " 11  Handcap         110527 non-null  int64 \n",
      " 12  SMS_received    110527 non-null  int64 \n",
      " 13  No-show         110527 non-null  object\n",
      "dtypes: int64(7), object(7)\n",
      "memory usage: 11.8+ MB\n"
     ]
    }
   ],
   "source": [
    "df_copy.info()"
   ]
  },
  {
   "cell_type": "markdown",
   "metadata": {},
   "source": [
    "#### Incorrect data type of ScheduledDay, AppointmentDay.\n",
    "##### Define \n",
    "> <li> Correct the data type of ScheduledDay, AppointmentDay into datetime type</li>\n",
    "##### Code"
   ]
  },
  {
   "cell_type": "code",
   "execution_count": 24,
   "metadata": {},
   "outputs": [],
   "source": [
    "df_copy.AppointmentDay = df_copy.AppointmentDay.astype('datetime64') "
   ]
  },
  {
   "cell_type": "code",
   "execution_count": 25,
   "metadata": {},
   "outputs": [],
   "source": [
    "df_copy.ScheduledDay = df_copy.ScheduledDay.astype('datetime64') "
   ]
  },
  {
   "cell_type": "markdown",
   "metadata": {},
   "source": [
    "##### Test"
   ]
  },
  {
   "cell_type": "code",
   "execution_count": 26,
   "metadata": {},
   "outputs": [
    {
     "name": "stdout",
     "output_type": "stream",
     "text": [
      "<class 'pandas.core.frame.DataFrame'>\n",
      "RangeIndex: 110527 entries, 0 to 110526\n",
      "Data columns (total 14 columns):\n",
      " #   Column          Non-Null Count   Dtype         \n",
      "---  ------          --------------   -----         \n",
      " 0   PatientId       110527 non-null  object        \n",
      " 1   AppointmentID   110527 non-null  object        \n",
      " 2   Gender          110527 non-null  object        \n",
      " 3   ScheduledDay    110527 non-null  datetime64[ns]\n",
      " 4   AppointmentDay  110527 non-null  datetime64[ns]\n",
      " 5   Age             110527 non-null  int64         \n",
      " 6   Neighbourhood   110527 non-null  object        \n",
      " 7   Scholarship     110527 non-null  int64         \n",
      " 8   Hipertension    110527 non-null  int64         \n",
      " 9   Diabetes        110527 non-null  int64         \n",
      " 10  Alcoholism      110527 non-null  int64         \n",
      " 11  Handcap         110527 non-null  int64         \n",
      " 12  SMS_received    110527 non-null  int64         \n",
      " 13  No-show         110527 non-null  object        \n",
      "dtypes: datetime64[ns](2), int64(7), object(5)\n",
      "memory usage: 11.8+ MB\n"
     ]
    }
   ],
   "source": [
    "df_copy.info()"
   ]
  },
  {
   "cell_type": "markdown",
   "metadata": {},
   "source": [
    "#### Incorrect Data Type of Gender and Scholarship.\n",
    "##### Define\n",
    "> <li> Correct the data types of Gender and Scholarship into Category data type. </li>\n",
    "##### Code"
   ]
  },
  {
   "cell_type": "code",
   "execution_count": 27,
   "metadata": {},
   "outputs": [],
   "source": [
    "df_copy.Gender = df_copy.Gender.astype('category')\n",
    "df_copy.Scholarship = df_copy.Scholarship.astype('category')\n",
    "df_copy.Neighbourhood = df_copy.Neighbourhood.astype('category')"
   ]
  },
  {
   "cell_type": "markdown",
   "metadata": {},
   "source": [
    "##### Test"
   ]
  },
  {
   "cell_type": "code",
   "execution_count": 28,
   "metadata": {},
   "outputs": [
    {
     "name": "stdout",
     "output_type": "stream",
     "text": [
      "<class 'pandas.core.frame.DataFrame'>\n",
      "RangeIndex: 110527 entries, 0 to 110526\n",
      "Data columns (total 14 columns):\n",
      " #   Column          Non-Null Count   Dtype         \n",
      "---  ------          --------------   -----         \n",
      " 0   PatientId       110527 non-null  object        \n",
      " 1   AppointmentID   110527 non-null  object        \n",
      " 2   Gender          110527 non-null  category      \n",
      " 3   ScheduledDay    110527 non-null  datetime64[ns]\n",
      " 4   AppointmentDay  110527 non-null  datetime64[ns]\n",
      " 5   Age             110527 non-null  int64         \n",
      " 6   Neighbourhood   110527 non-null  category      \n",
      " 7   Scholarship     110527 non-null  category      \n",
      " 8   Hipertension    110527 non-null  int64         \n",
      " 9   Diabetes        110527 non-null  int64         \n",
      " 10  Alcoholism      110527 non-null  int64         \n",
      " 11  Handcap         110527 non-null  int64         \n",
      " 12  SMS_received    110527 non-null  int64         \n",
      " 13  No-show         110527 non-null  object        \n",
      "dtypes: category(3), datetime64[ns](2), int64(6), object(3)\n",
      "memory usage: 9.6+ MB\n"
     ]
    }
   ],
   "source": [
    "df_copy.info()"
   ]
  },
  {
   "cell_type": "markdown",
   "metadata": {},
   "source": [
    "#### Incorrect naming of No-show columns\n",
    "##### Define \n",
    "><li> Correct the name of No-show to no_show </li>\n",
    "\n",
    "##### Code"
   ]
  },
  {
   "cell_type": "code",
   "execution_count": 29,
   "metadata": {},
   "outputs": [],
   "source": [
    "df_copy.rename(columns = {'No-show': 'no_show'}, inplace = True)"
   ]
  },
  {
   "cell_type": "markdown",
   "metadata": {},
   "source": [
    "##### Test"
   ]
  },
  {
   "cell_type": "code",
   "execution_count": 30,
   "metadata": {
    "scrolled": true
   },
   "outputs": [
    {
     "name": "stdout",
     "output_type": "stream",
     "text": [
      "<class 'pandas.core.frame.DataFrame'>\n",
      "RangeIndex: 110527 entries, 0 to 110526\n",
      "Data columns (total 14 columns):\n",
      " #   Column          Non-Null Count   Dtype         \n",
      "---  ------          --------------   -----         \n",
      " 0   PatientId       110527 non-null  object        \n",
      " 1   AppointmentID   110527 non-null  object        \n",
      " 2   Gender          110527 non-null  category      \n",
      " 3   ScheduledDay    110527 non-null  datetime64[ns]\n",
      " 4   AppointmentDay  110527 non-null  datetime64[ns]\n",
      " 5   Age             110527 non-null  int64         \n",
      " 6   Neighbourhood   110527 non-null  category      \n",
      " 7   Scholarship     110527 non-null  category      \n",
      " 8   Hipertension    110527 non-null  int64         \n",
      " 9   Diabetes        110527 non-null  int64         \n",
      " 10  Alcoholism      110527 non-null  int64         \n",
      " 11  Handcap         110527 non-null  int64         \n",
      " 12  SMS_received    110527 non-null  int64         \n",
      " 13  no_show         110527 non-null  object        \n",
      "dtypes: category(3), datetime64[ns](2), int64(6), object(3)\n",
      "memory usage: 9.6+ MB\n"
     ]
    }
   ],
   "source": [
    "df_copy.info()"
   ]
  },
  {
   "cell_type": "markdown",
   "metadata": {},
   "source": [
    "#### Incorrect values in Handcap column\n",
    "##### Define\n",
    ">Changing the values in Handicap which equal 2,3,4 to 1, since the Handicap column should equal to 0 or 1 which means True >or False according to the data description on kaggel. In this case, We have two options:\n",
    "> <li>To remove this data and consider it as mistake</li>\n",
    "> <li>To change this data into 1, and consider it number of disabilities.</li>\n",
    "> I choose the second solution, so I will change all these values into 1, which means there is a disability.\n",
    "##### Code"
   ]
  },
  {
   "cell_type": "code",
   "execution_count": 31,
   "metadata": {
    "scrolled": true
   },
   "outputs": [],
   "source": [
    "df_copy.loc[(df_copy.Handcap > 1), ('Handcap')] = 1"
   ]
  },
  {
   "cell_type": "markdown",
   "metadata": {},
   "source": [
    "##### Test"
   ]
  },
  {
   "cell_type": "code",
   "execution_count": 32,
   "metadata": {
    "scrolled": true
   },
   "outputs": [
    {
     "data": {
      "text/plain": [
       "0    108286\n",
       "1      2241\n",
       "Name: Handcap, dtype: int64"
      ]
     },
     "execution_count": 32,
     "metadata": {},
     "output_type": "execute_result"
    }
   ],
   "source": [
    "df_copy.Handcap.value_counts()"
   ]
  },
  {
   "cell_type": "code",
   "execution_count": null,
   "metadata": {},
   "outputs": [],
   "source": []
  },
  {
   "cell_type": "markdown",
   "metadata": {},
   "source": [
    "#### Incorrect Data Type Hipertension, Diabetes, Handcap, Alcoholism, SMS_received, No-show columns.\n",
    "##### Define\n",
    "><li>Converting the data type of Hipertension, Diabetes, Handcap, Alcoholism, SMS_received,  into category</li>\n",
    "##### Code"
   ]
  },
  {
   "cell_type": "code",
   "execution_count": 33,
   "metadata": {},
   "outputs": [],
   "source": [
    "df_copy.Hipertension = df_copy.Hipertension.astype('category')\n",
    "df_copy.Diabetes = df_copy.Diabetes.astype('category')\n",
    "df_copy.Handcap = df_copy.Handcap.astype('category')\n",
    "df_copy. Alcoholism = df_copy. Alcoholism.astype('category')\n",
    "df_copy.SMS_received = df_copy.SMS_received.astype('category')\n"
   ]
  },
  {
   "cell_type": "markdown",
   "metadata": {},
   "source": [
    "##### Test"
   ]
  },
  {
   "cell_type": "code",
   "execution_count": 34,
   "metadata": {},
   "outputs": [
    {
     "name": "stdout",
     "output_type": "stream",
     "text": [
      "<class 'pandas.core.frame.DataFrame'>\n",
      "RangeIndex: 110527 entries, 0 to 110526\n",
      "Data columns (total 14 columns):\n",
      " #   Column          Non-Null Count   Dtype         \n",
      "---  ------          --------------   -----         \n",
      " 0   PatientId       110527 non-null  object        \n",
      " 1   AppointmentID   110527 non-null  object        \n",
      " 2   Gender          110527 non-null  category      \n",
      " 3   ScheduledDay    110527 non-null  datetime64[ns]\n",
      " 4   AppointmentDay  110527 non-null  datetime64[ns]\n",
      " 5   Age             110527 non-null  int64         \n",
      " 6   Neighbourhood   110527 non-null  category      \n",
      " 7   Scholarship     110527 non-null  category      \n",
      " 8   Hipertension    110527 non-null  category      \n",
      " 9   Diabetes        110527 non-null  category      \n",
      " 10  Alcoholism      110527 non-null  category      \n",
      " 11  Handcap         110527 non-null  category      \n",
      " 12  SMS_received    110527 non-null  category      \n",
      " 13  no_show         110527 non-null  object        \n",
      "dtypes: category(8), datetime64[ns](2), int64(1), object(3)\n",
      "memory usage: 5.9+ MB\n"
     ]
    }
   ],
   "source": [
    "df_copy.info()"
   ]
  },
  {
   "cell_type": "markdown",
   "metadata": {},
   "source": [
    "#### Incorrect values in Age coluumn (-1)\n",
    "##### Define\n",
    "> Droping the row which has Age = -1\n",
    "##### Code"
   ]
  },
  {
   "cell_type": "code",
   "execution_count": 35,
   "metadata": {},
   "outputs": [],
   "source": [
    "df_copy = df_copy[df_copy.Age != -1]\n"
   ]
  },
  {
   "cell_type": "markdown",
   "metadata": {},
   "source": [
    "##### Test"
   ]
  },
  {
   "cell_type": "code",
   "execution_count": 36,
   "metadata": {
    "scrolled": true
   },
   "outputs": [
    {
     "data": {
      "text/plain": [
       "0      3539\n",
       "1      2273\n",
       "52     1746\n",
       "49     1652\n",
       "53     1651\n",
       "       ... \n",
       "98        6\n",
       "115       5\n",
       "100       4\n",
       "102       2\n",
       "99        1\n",
       "Name: Age, Length: 103, dtype: int64"
      ]
     },
     "execution_count": 36,
     "metadata": {},
     "output_type": "execute_result"
    }
   ],
   "source": [
    "df_copy.Age.value_counts()"
   ]
  },
  {
   "cell_type": "markdown",
   "metadata": {},
   "source": [
    "#### Renaming the columns' names\n",
    "##### Define\n",
    "> <li> Renaming the columns' names to be lower using rename() </li>\n",
    "\n",
    "##### Code"
   ]
  },
  {
   "cell_type": "code",
   "execution_count": 37,
   "metadata": {},
   "outputs": [],
   "source": [
    "df_copy.columns = df_copy.columns.str.lower()"
   ]
  },
  {
   "cell_type": "markdown",
   "metadata": {},
   "source": [
    "##### Test"
   ]
  },
  {
   "cell_type": "code",
   "execution_count": 38,
   "metadata": {
    "scrolled": true
   },
   "outputs": [
    {
     "name": "stdout",
     "output_type": "stream",
     "text": [
      "<class 'pandas.core.frame.DataFrame'>\n",
      "Int64Index: 110526 entries, 0 to 110526\n",
      "Data columns (total 14 columns):\n",
      " #   Column          Non-Null Count   Dtype         \n",
      "---  ------          --------------   -----         \n",
      " 0   patientid       110526 non-null  object        \n",
      " 1   appointmentid   110526 non-null  object        \n",
      " 2   gender          110526 non-null  category      \n",
      " 3   scheduledday    110526 non-null  datetime64[ns]\n",
      " 4   appointmentday  110526 non-null  datetime64[ns]\n",
      " 5   age             110526 non-null  int64         \n",
      " 6   neighbourhood   110526 non-null  category      \n",
      " 7   scholarship     110526 non-null  category      \n",
      " 8   hipertension    110526 non-null  category      \n",
      " 9   diabetes        110526 non-null  category      \n",
      " 10  alcoholism      110526 non-null  category      \n",
      " 11  handcap         110526 non-null  category      \n",
      " 12  sms_received    110526 non-null  category      \n",
      " 13  no_show         110526 non-null  object        \n",
      "dtypes: category(8), datetime64[ns](2), int64(1), object(3)\n",
      "memory usage: 6.7+ MB\n"
     ]
    }
   ],
   "source": [
    "df_copy.info()"
   ]
  },
  {
   "cell_type": "markdown",
   "metadata": {},
   "source": [
    "<a id='eda'></a>\n",
    "## Exploratory Data Analysis\n",
    "### Q1: Comparison between different disease and their attendance?\n",
    "#### Hipertension"
   ]
  },
  {
   "cell_type": "code",
   "execution_count": 39,
   "metadata": {},
   "outputs": [],
   "source": [
    "df_analysis = df_copy.copy()"
   ]
  },
  {
   "cell_type": "code",
   "execution_count": 40,
   "metadata": {},
   "outputs": [
    {
     "data": {
      "text/plain": [
       "(21801,)"
      ]
     },
     "execution_count": 40,
     "metadata": {},
     "output_type": "execute_result"
    }
   ],
   "source": [
    "hipertension_patient = df_analysis[df_analysis.hipertension == 1].no_show\n",
    "hipertension_patient.shape"
   ]
  },
  {
   "cell_type": "code",
   "execution_count": 41,
   "metadata": {
    "scrolled": true
   },
   "outputs": [
    {
     "data": {
      "text/plain": [
       "No     18029\n",
       "Yes     3772\n",
       "Name: no_show, dtype: int64"
      ]
     },
     "execution_count": 41,
     "metadata": {},
     "output_type": "execute_result"
    }
   ],
   "source": [
    "hipertension_patient.value_counts()"
   ]
  },
  {
   "cell_type": "code",
   "execution_count": 42,
   "metadata": {},
   "outputs": [
    {
     "data": {
      "text/plain": [
       "(88725,)"
      ]
     },
     "execution_count": 42,
     "metadata": {},
     "output_type": "execute_result"
    }
   ],
   "source": [
    "not_hipertension_patient = df_analysis[df_analysis.hipertension == 0].no_show\n",
    "not_hipertension_patient.shape"
   ]
  },
  {
   "cell_type": "code",
   "execution_count": 43,
   "metadata": {},
   "outputs": [
    {
     "data": {
      "text/plain": [
       "No     70178\n",
       "Yes    18547\n",
       "Name: no_show, dtype: int64"
      ]
     },
     "execution_count": 43,
     "metadata": {},
     "output_type": "execute_result"
    }
   ],
   "source": [
    "not_hipertension_patient.value_counts()"
   ]
  },
  {
   "cell_type": "markdown",
   "metadata": {},
   "source": [
    "From the above Calculations, we can say that the precentage of hypertension patients who don't show up is 17.3%.\n",
    "And the precentage of no hypertension patients who don't show up is 21%"
   ]
  },
  {
   "cell_type": "markdown",
   "metadata": {},
   "source": [
    "#### Diabetes"
   ]
  },
  {
   "cell_type": "code",
   "execution_count": 44,
   "metadata": {},
   "outputs": [
    {
     "data": {
      "text/plain": [
       "(7943,)"
      ]
     },
     "execution_count": 44,
     "metadata": {},
     "output_type": "execute_result"
    }
   ],
   "source": [
    "diabetes_patient = df_analysis[df_analysis.diabetes == 1].no_show\n",
    "diabetes_patient.shape"
   ]
  },
  {
   "cell_type": "code",
   "execution_count": 45,
   "metadata": {},
   "outputs": [
    {
     "data": {
      "text/plain": [
       "(102583,)"
      ]
     },
     "execution_count": 45,
     "metadata": {},
     "output_type": "execute_result"
    }
   ],
   "source": [
    "not_diabetes_patient = df_analysis[df_analysis.diabetes == 0].no_show\n",
    "not_diabetes_patient.shape"
   ]
  },
  {
   "cell_type": "code",
   "execution_count": 46,
   "metadata": {},
   "outputs": [
    {
     "data": {
      "text/plain": [
       "No     6513\n",
       "Yes    1430\n",
       "Name: no_show, dtype: int64"
      ]
     },
     "execution_count": 46,
     "metadata": {},
     "output_type": "execute_result"
    }
   ],
   "source": [
    "diabetes_patient.value_counts()"
   ]
  },
  {
   "cell_type": "code",
   "execution_count": 47,
   "metadata": {},
   "outputs": [
    {
     "data": {
      "text/plain": [
       "No     81694\n",
       "Yes    20889\n",
       "Name: no_show, dtype: int64"
      ]
     },
     "execution_count": 47,
     "metadata": {},
     "output_type": "execute_result"
    }
   ],
   "source": [
    "not_diabetes_patient.value_counts()"
   ]
  },
  {
   "cell_type": "markdown",
   "metadata": {},
   "source": [
    ">From the above Calculations, we can say that the precentage of diabetes patients who don't show up is 18%.\n",
    ">And the precentage of no diabetes patients who don't show up is 20.3%\n",
    "#### Alcoholism"
   ]
  },
  {
   "cell_type": "code",
   "execution_count": 48,
   "metadata": {},
   "outputs": [
    {
     "data": {
      "text/plain": [
       "(3360,)"
      ]
     },
     "execution_count": 48,
     "metadata": {},
     "output_type": "execute_result"
    }
   ],
   "source": [
    "alkoholism_patient = df_analysis[df_analysis.alcoholism == 1].no_show\n",
    "alkoholism_patient.shape"
   ]
  },
  {
   "cell_type": "code",
   "execution_count": 49,
   "metadata": {},
   "outputs": [
    {
     "data": {
      "text/plain": [
       "No     2683\n",
       "Yes     677\n",
       "Name: no_show, dtype: int64"
      ]
     },
     "execution_count": 49,
     "metadata": {},
     "output_type": "execute_result"
    }
   ],
   "source": [
    "alkoholism_patient.value_counts()"
   ]
  },
  {
   "cell_type": "code",
   "execution_count": 50,
   "metadata": {},
   "outputs": [
    {
     "data": {
      "text/plain": [
       "(107166,)"
      ]
     },
     "execution_count": 50,
     "metadata": {},
     "output_type": "execute_result"
    }
   ],
   "source": [
    "not_alkoholism_patient = df_analysis[df_analysis.alcoholism == 0].no_show\n",
    "not_alkoholism_patient.shape"
   ]
  },
  {
   "cell_type": "code",
   "execution_count": 51,
   "metadata": {},
   "outputs": [
    {
     "data": {
      "text/plain": [
       "No     85524\n",
       "Yes    21642\n",
       "Name: no_show, dtype: int64"
      ]
     },
     "execution_count": 51,
     "metadata": {},
     "output_type": "execute_result"
    }
   ],
   "source": [
    "not_alkoholism_patient.value_counts()"
   ]
  },
  {
   "cell_type": "markdown",
   "metadata": {},
   "source": [
    ">From the above Calculations, we can say that the precentage of alkoholism patients who don't show up is 25%.\n",
    ">And the precentage of not alkoholism patients who don't show up is 20.2%\n",
    "#### Handicap\n"
   ]
  },
  {
   "cell_type": "code",
   "execution_count": 52,
   "metadata": {},
   "outputs": [
    {
     "data": {
      "text/plain": [
       "(2241,)"
      ]
     },
     "execution_count": 52,
     "metadata": {},
     "output_type": "execute_result"
    }
   ],
   "source": [
    "hanadicap_patient = df_analysis[df_analysis.handcap == 1].no_show\n",
    "hanadicap_patient.shape"
   ]
  },
  {
   "cell_type": "code",
   "execution_count": 53,
   "metadata": {},
   "outputs": [
    {
     "data": {
      "text/plain": [
       "No     1834\n",
       "Yes     407\n",
       "Name: no_show, dtype: int64"
      ]
     },
     "execution_count": 53,
     "metadata": {},
     "output_type": "execute_result"
    }
   ],
   "source": [
    "hanadicap_patient.value_counts()"
   ]
  },
  {
   "cell_type": "code",
   "execution_count": 54,
   "metadata": {},
   "outputs": [
    {
     "data": {
      "text/plain": [
       "(108285,)"
      ]
     },
     "execution_count": 54,
     "metadata": {},
     "output_type": "execute_result"
    }
   ],
   "source": [
    "not_handicap_patient = df_analysis[df_analysis.handcap == 0].no_show\n",
    "not_handicap_patient.shape"
   ]
  },
  {
   "cell_type": "code",
   "execution_count": 55,
   "metadata": {},
   "outputs": [
    {
     "data": {
      "text/plain": [
       "No     86373\n",
       "Yes    21912\n",
       "Name: no_show, dtype: int64"
      ]
     },
     "execution_count": 55,
     "metadata": {},
     "output_type": "execute_result"
    }
   ],
   "source": [
    "not_handicap_patient.value_counts()"
   ]
  },
  {
   "cell_type": "markdown",
   "metadata": {},
   "source": [
    ">From the above Calculations, we can say that the precentage of Hndicap patients who don't show up is 18.2%.\n",
    ">And the precentage of not Hndicap patients who don't show up is 20.2%"
   ]
  },
  {
   "cell_type": "code",
   "execution_count": 56,
   "metadata": {},
   "outputs": [
    {
     "data": {
      "image/png": "[encoded data removed]",
      "text/plain": [
       "<Figure size 576x432 with 1 Axes>"
      ]
     },
     "metadata": {
      "needs_background": "light"
     },
     "output_type": "display_data"
    }
   ],
   "source": [
    "deseis_show_ls = []\n",
    "deseis_show_ls.append(hipertension_patient.value_counts()['No'])\n",
    "deseis_show_ls.append(diabetes_patient.value_counts()['No'])\n",
    "deseis_show_ls.append(alkoholism_patient.value_counts()['No'])\n",
    "deseis_show_ls.append(hanadicap_patient.value_counts()['No'])\n",
    "\n",
    "no_deseis_show_ls= []\n",
    "\n",
    "no_deseis_show_ls.append(hipertension_patient.value_counts()['Yes'])\n",
    "no_deseis_show_ls.append(diabetes_patient.value_counts()['Yes'])\n",
    "no_deseis_show_ls.append(alkoholism_patient.value_counts()['Yes'])\n",
    "no_deseis_show_ls.append(hanadicap_patient.value_counts()['Yes'])\n",
    "\n",
    "labels = ['hypertension', 'diabetes', 'alcoholism', 'handicap']\n",
    "legend_labels = ['Yes','No']\n",
    "width =0.2\n",
    "plt.figure(figsize=(8,6))\n",
    "plt.bar(np.arange(len(deseis_show_ls)), deseis_show_ls, width=width, tick_label = labels)\n",
    "plt.bar(np.arange(len(no_deseis_show_ls))+ width, no_deseis_show_ls, width=width)\n",
    "plt.legend(legend_labels)\n",
    "plt.title(\"People who show up vs don't show up\")\n",
    "plt.xlabel(\"diseases\")\n",
    "plt.ylabel(\"count of patients\")\n",
    "plt.show()"
   ]
  },
  {
   "cell_type": "markdown",
   "metadata": {},
   "source": [
    ">From the above figure, we can say that:\n",
    "> <li>The hypertension is the most common disease between patients</li>\n",
    "> <li>no_show column doesn't depend on the colum of hypertension, diabetes, alkholism, handicap </li>\n",
    "> <li>The handicap is is least common disease beteen patients</li>\n",
    "> <li>The hypertension is the most common disease between patients since there are more than 20000 who have it compared to others.</li>\n",
    "> <li>The handicap is is least common disease beteen patients</li>\n",
    "\n"
   ]
  },
  {
   "cell_type": "markdown",
   "metadata": {},
   "source": [
    "### Q2  No-show Neighbourhood  vs show Neighbourhood for the highest 6 Neighbourhood"
   ]
  },
  {
   "cell_type": "markdown",
   "metadata": {},
   "source": [
    "#### JARDIM CAMBURI Neighbourhood"
   ]
  },
  {
   "cell_type": "code",
   "execution_count": 57,
   "metadata": {},
   "outputs": [
    {
     "data": {
      "text/plain": [
       "JARDIM CAMBURI                 7717\n",
       "MARIA ORTIZ                    5805\n",
       "RESISTÊNCIA                    4431\n",
       "JARDIM DA PENHA                3877\n",
       "ITARARÉ                        3514\n",
       "                               ... \n",
       "ILHA DO BOI                      35\n",
       "ILHA DO FRADE                    10\n",
       "AEROPORTO                         8\n",
       "ILHAS OCEÂNICAS DE TRINDADE       2\n",
       "PARQUE INDUSTRIAL                 1\n",
       "Name: neighbourhood, Length: 81, dtype: int64"
      ]
     },
     "execution_count": 57,
     "metadata": {},
     "output_type": "execute_result"
    }
   ],
   "source": [
    "neighbourhood_ser = df_analysis.neighbourhood.value_counts()\n",
    "neighbourhood_ser"
   ]
  },
  {
   "cell_type": "code",
   "execution_count": 58,
   "metadata": {},
   "outputs": [
    {
     "data": {
      "text/plain": [
       "No     6252\n",
       "Yes    1465\n",
       "Name: no_show, dtype: int64"
      ]
     },
     "execution_count": 58,
     "metadata": {},
     "output_type": "execute_result"
    }
   ],
   "source": [
    "JARDIM_CAMBURI = df_analysis[df_analysis.neighbourhood == neighbourhood_ser.index[0]].no_show\n",
    "JARDIM_CAMBURI.value_counts()"
   ]
  },
  {
   "cell_type": "markdown",
   "metadata": {},
   "source": [
    "#### MARIA ORTIZ Neighbourhood"
   ]
  },
  {
   "cell_type": "code",
   "execution_count": 59,
   "metadata": {},
   "outputs": [
    {
     "data": {
      "text/plain": [
       "No     4586\n",
       "Yes    1219\n",
       "Name: no_show, dtype: int64"
      ]
     },
     "execution_count": 59,
     "metadata": {},
     "output_type": "execute_result"
    }
   ],
   "source": [
    "MARIA_ORTIZ = df_analysis[df_analysis.neighbourhood == neighbourhood_ser.index[1]].no_show\n",
    "MARIA_ORTIZ.value_counts()"
   ]
  },
  {
   "cell_type": "markdown",
   "metadata": {},
   "source": [
    "#### RESISTÊNCIA Neighbourhood"
   ]
  },
  {
   "cell_type": "code",
   "execution_count": 60,
   "metadata": {},
   "outputs": [
    {
     "data": {
      "text/plain": [
       "No     3525\n",
       "Yes     906\n",
       "Name: no_show, dtype: int64"
      ]
     },
     "execution_count": 60,
     "metadata": {},
     "output_type": "execute_result"
    }
   ],
   "source": [
    "RESISTÊNCIA = df_analysis[df_analysis.neighbourhood == neighbourhood_ser.index[2]].no_show\n",
    "RESISTÊNCIA.value_counts()"
   ]
  },
  {
   "cell_type": "markdown",
   "metadata": {},
   "source": [
    "#### JARDIM DA PENHA Neighbourhood"
   ]
  },
  {
   "cell_type": "code",
   "execution_count": 61,
   "metadata": {},
   "outputs": [
    {
     "data": {
      "text/plain": [
       "No     3246\n",
       "Yes     631\n",
       "Name: no_show, dtype: int64"
      ]
     },
     "execution_count": 61,
     "metadata": {},
     "output_type": "execute_result"
    }
   ],
   "source": [
    "JARDIM_DA_PENHA = df_analysis[df_analysis.neighbourhood == neighbourhood_ser.index[3]].no_show\n",
    "JARDIM_DA_PENHA.value_counts()"
   ]
  },
  {
   "cell_type": "markdown",
   "metadata": {},
   "source": [
    "#### ITARARÉ Neighbourhood"
   ]
  },
  {
   "cell_type": "code",
   "execution_count": 62,
   "metadata": {},
   "outputs": [
    {
     "data": {
      "text/plain": [
       "No     2591\n",
       "Yes     923\n",
       "Name: no_show, dtype: int64"
      ]
     },
     "execution_count": 62,
     "metadata": {},
     "output_type": "execute_result"
    }
   ],
   "source": [
    "ITARARÉ = df_analysis[df_analysis.neighbourhood == neighbourhood_ser.index[4]].no_show\n",
    "ITARARÉ.value_counts()"
   ]
  },
  {
   "cell_type": "markdown",
   "metadata": {},
   "source": [
    "#### CENTRO neighbourhood"
   ]
  },
  {
   "cell_type": "code",
   "execution_count": 63,
   "metadata": {},
   "outputs": [
    {
     "data": {
      "text/plain": [
       "No     2631\n",
       "Yes     703\n",
       "Name: no_show, dtype: int64"
      ]
     },
     "execution_count": 63,
     "metadata": {},
     "output_type": "execute_result"
    }
   ],
   "source": [
    "CENTRO = df_analysis[df_analysis.neighbourhood == neighbourhood_ser.index[5]].no_show\n",
    "CENTRO.value_counts()\n"
   ]
  },
  {
   "cell_type": "code",
   "execution_count": 64,
   "metadata": {
    "scrolled": true
   },
   "outputs": [
    {
     "data": {
      "image/png": "[encoded data removed]",
      "text/plain": [
       "<Figure size 720x432 with 1 Axes>"
      ]
     },
     "metadata": {
      "needs_background": "light"
     },
     "output_type": "display_data"
    }
   ],
   "source": [
    "show_ls = []\n",
    "show_ls.append(JARDIM_CAMBURI.value_counts()['No'])\n",
    "show_ls.append(MARIA_ORTIZ.value_counts()['No'])\n",
    "show_ls.append(RESISTÊNCIA.value_counts()['No'])\n",
    "show_ls.append(JARDIM_DA_PENHA.value_counts()['No'])\n",
    "show_ls.append(ITARARÉ.value_counts()['No'])\n",
    "show_ls.append(CENTRO.value_counts()['No'])\n",
    "\n",
    "no_show_ls = []\n",
    "\n",
    "no_show_ls.append(JARDIM_CAMBURI.value_counts()['Yes'])\n",
    "no_show_ls.append(MARIA_ORTIZ.value_counts()['Yes'])\n",
    "no_show_ls.append(RESISTÊNCIA.value_counts()['Yes'])\n",
    "no_show_ls.append(JARDIM_DA_PENHA.value_counts()['Yes'])\n",
    "no_show_ls.append(ITARARÉ.value_counts()['Yes'])\n",
    "no_show_ls.append(CENTRO.value_counts()['Yes'])\n",
    "\n",
    "labels = ['JARDIM_CAMBURI', 'MARIA_ORTIZ', 'RESISTÊNCIA', 'JARDIM_DA_PENHA', 'ITARARÉ', 'CENTRO']\n",
    "\n",
    "width =0.2\n",
    "plt.figure(figsize=(10,6))\n",
    "plt.bar(np.arange(len(show_ls)), show_ls, width=width, tick_label = labels)\n",
    "plt.bar(np.arange(len(no_show_ls))+ width, no_show_ls, width=width)\n",
    "plt.xticks(rotation=45)\n",
    "plt.legend(legend_labels)\n",
    "\n",
    "plt.title(\"People who show up vs don't show up in the highest neighbourhood\")\n",
    "plt.xlabel(\"neighbourhood\")\n",
    "plt.ylabel(\"count of patients\")\n",
    "\n",
    "plt.show()"
   ]
  },
  {
   "cell_type": "markdown",
   "metadata": {},
   "source": [
    "> From above Figure, we can say that:\n",
    "><li>JARDIM CAMBURI Neighbourhood has the highest number of patients who show up</li>\n",
    "><li>ITARARÉ and CENTRO neighbouhoods may have the near number of patients who show up </li>\n"
   ]
  },
  {
   "cell_type": "markdown",
   "metadata": {},
   "source": [
    "### Q3 what is the relation between neighbourhood and participation in Bolsa Família program and show up?"
   ]
  },
  {
   "cell_type": "code",
   "execution_count": 65,
   "metadata": {
    "scrolled": false
   },
   "outputs": [
    {
     "data": {
      "text/plain": [
       "No     8283\n",
       "Yes    2578\n",
       "Name: no_show, dtype: int64"
      ]
     },
     "execution_count": 65,
     "metadata": {},
     "output_type": "execute_result"
    }
   ],
   "source": [
    "neighbour_participated = df_analysis[df_analysis.scholarship == 1][['neighbourhood','no_show']]\n",
    "neighbour_participated.no_show.value_counts()"
   ]
  },
  {
   "cell_type": "code",
   "execution_count": 66,
   "metadata": {},
   "outputs": [
    {
     "data": {
      "text/plain": [
       "ILHA DO PRÍNCIPE     579\n",
       "TABUAZEIRO           537\n",
       "RESISTÊNCIA          468\n",
       "CARATOÍRA            456\n",
       "SANTA MARTHA         441\n",
       "                    ... \n",
       "MORADA DE CAMBURI      0\n",
       "BARRO VERMELHO         0\n",
       "ILHA DO BOI            0\n",
       "ILHA DO FRADE          0\n",
       "AEROPORTO              0\n",
       "Name: neighbourhood, Length: 81, dtype: int64"
      ]
     },
     "execution_count": 66,
     "metadata": {},
     "output_type": "execute_result"
    }
   ],
   "source": [
    "neighbour_participated.neighbourhood.value_counts()"
   ]
  },
  {
   "cell_type": "code",
   "execution_count": 67,
   "metadata": {
    "scrolled": true
   },
   "outputs": [
    {
     "data": {
      "text/html": [
       "<div>\n",
       "<style scoped>\n",
       "    .dataframe tbody tr th:only-of-type {\n",
       "        vertical-align: middle;\n",
       "    }\n",
       "\n",
       "    .dataframe tbody tr th {\n",
       "        vertical-align: top;\n",
       "    }\n",
       "\n",
       "    .dataframe thead th {\n",
       "        text-align: right;\n",
       "    }\n",
       "</style>\n",
       "<table border=\"1\" class=\"dataframe\">\n",
       "  <thead>\n",
       "    <tr style=\"text-align: right;\">\n",
       "      <th></th>\n",
       "      <th>neighbourhood</th>\n",
       "      <th>no_show</th>\n",
       "    </tr>\n",
       "  </thead>\n",
       "  <tbody>\n",
       "    <tr>\n",
       "      <th>count</th>\n",
       "      <td>10861</td>\n",
       "      <td>10861</td>\n",
       "    </tr>\n",
       "    <tr>\n",
       "      <th>unique</th>\n",
       "      <td>73</td>\n",
       "      <td>2</td>\n",
       "    </tr>\n",
       "    <tr>\n",
       "      <th>top</th>\n",
       "      <td>ILHA DO PRÍNCIPE</td>\n",
       "      <td>No</td>\n",
       "    </tr>\n",
       "    <tr>\n",
       "      <th>freq</th>\n",
       "      <td>579</td>\n",
       "      <td>8283</td>\n",
       "    </tr>\n",
       "  </tbody>\n",
       "</table>\n",
       "</div>"
      ],
      "text/plain": [
       "           neighbourhood no_show\n",
       "count              10861   10861\n",
       "unique                73       2\n",
       "top     ILHA DO PRÍNCIPE      No\n",
       "freq                 579    8283"
      ]
     },
     "execution_count": 67,
     "metadata": {},
     "output_type": "execute_result"
    }
   ],
   "source": [
    "neighbour_participated.describe()"
   ]
  },
  {
   "cell_type": "markdown",
   "metadata": {},
   "source": [
    "> From above calculations, we can say that:\n",
    "><li>The ILHA DO PRÍNCIPE  neighbouhood has the highest number of people who participated in the Bolsa Família program</li> \n",
    "><li>ILHA DO PRÍNCIPE has only 579 participated in the program</li>\n",
    "><li>There are only 73 of neighbouhoods participate in the the Bolsa Família program</li>\n",
    "><li>There are 8283 of 10861 who participate in the the Bolsa Família program and don't show up</li>"
   ]
  },
  {
   "cell_type": "code",
   "execution_count": 68,
   "metadata": {},
   "outputs": [],
   "source": [
    "neighbour_not_participated = df_analysis[df_analysis.scholarship == 0][['neighbourhood','no_show']]"
   ]
  },
  {
   "cell_type": "code",
   "execution_count": 69,
   "metadata": {},
   "outputs": [
    {
     "data": {
      "text/html": [
       "<div>\n",
       "<style scoped>\n",
       "    .dataframe tbody tr th:only-of-type {\n",
       "        vertical-align: middle;\n",
       "    }\n",
       "\n",
       "    .dataframe tbody tr th {\n",
       "        vertical-align: top;\n",
       "    }\n",
       "\n",
       "    .dataframe thead th {\n",
       "        text-align: right;\n",
       "    }\n",
       "</style>\n",
       "<table border=\"1\" class=\"dataframe\">\n",
       "  <thead>\n",
       "    <tr style=\"text-align: right;\">\n",
       "      <th></th>\n",
       "      <th>neighbourhood</th>\n",
       "      <th>no_show</th>\n",
       "    </tr>\n",
       "  </thead>\n",
       "  <tbody>\n",
       "    <tr>\n",
       "      <th>count</th>\n",
       "      <td>99665</td>\n",
       "      <td>99665</td>\n",
       "    </tr>\n",
       "    <tr>\n",
       "      <th>unique</th>\n",
       "      <td>81</td>\n",
       "      <td>2</td>\n",
       "    </tr>\n",
       "    <tr>\n",
       "      <th>top</th>\n",
       "      <td>JARDIM CAMBURI</td>\n",
       "      <td>No</td>\n",
       "    </tr>\n",
       "    <tr>\n",
       "      <th>freq</th>\n",
       "      <td>7558</td>\n",
       "      <td>79924</td>\n",
       "    </tr>\n",
       "  </tbody>\n",
       "</table>\n",
       "</div>"
      ],
      "text/plain": [
       "         neighbourhood no_show\n",
       "count            99665   99665\n",
       "unique              81       2\n",
       "top     JARDIM CAMBURI      No\n",
       "freq              7558   79924"
      ]
     },
     "execution_count": 69,
     "metadata": {},
     "output_type": "execute_result"
    }
   ],
   "source": [
    "neighbour_not_participated.describe()"
   ]
  },
  {
   "cell_type": "markdown",
   "metadata": {},
   "source": [
    "> From above calculations, we can say that:\n",
    "><li>The JARDIM CAMBURI neighbouhood has the highest number of people who don't participated in the Bolsa Família program</li> \n",
    "><li>JARDIM CAMBURI has only 7558 participated in the program</li>\n",
    "><li>There are people from all neighbouhoods who doen't participate in the the Bolsa Família program</li>\n",
    "><li>There are only 79924 of 99665 who participate in the the Bolsa Família program and show up</li>"
   ]
  },
  {
   "cell_type": "markdown",
   "metadata": {},
   "source": [
    "#### Q4 what is the precentage of pepole who recived message and show up appointment?"
   ]
  },
  {
   "cell_type": "code",
   "execution_count": 70,
   "metadata": {},
   "outputs": [
    {
     "data": {
      "text/plain": [
       "No     25698\n",
       "Yes     9784\n",
       "Name: no_show, dtype: int64"
      ]
     },
     "execution_count": 70,
     "metadata": {},
     "output_type": "execute_result"
    }
   ],
   "source": [
    "sms_received_patient = df_analysis[df_analysis.sms_received == 1].no_show\n",
    "sms_received_patient.value_counts()\n"
   ]
  },
  {
   "cell_type": "code",
   "execution_count": 71,
   "metadata": {
    "scrolled": true
   },
   "outputs": [
    {
     "data": {
      "text/plain": [
       "No     62509\n",
       "Yes    12535\n",
       "Name: no_show, dtype: int64"
      ]
     },
     "execution_count": 71,
     "metadata": {},
     "output_type": "execute_result"
    }
   ],
   "source": [
    "sms_not_received_patient = df_analysis[df_analysis.sms_received == 0].no_show\n",
    "sms_not_received_patient.value_counts()"
   ]
  },
  {
   "cell_type": "code",
   "execution_count": 72,
   "metadata": {
    "scrolled": true
   },
   "outputs": [
    {
     "data": {
      "image/png": "[encoded data removed]",
      "text/plain": [
       "<Figure size 288x216 with 1 Axes>"
      ]
     },
     "metadata": {
      "needs_background": "light"
     },
     "output_type": "display_data"
    }
   ],
   "source": [
    "sms_received_ls = [sms_received_patient.value_counts()['Yes'],sms_received_patient.value_counts()['No']]\n",
    "sms_not_received_ls = [sms_not_received_patient.value_counts()['Yes'],sms_not_received_patient.value_counts()['No']]\n",
    "\n",
    "legend_labels =['Yes', 'No']\n",
    "labels = ['Sms_received', 'Sms_not_received']\n",
    "width =0.1\n",
    "plt.figure(figsize=(4,3))\n",
    "plt.bar(np.arange(len(sms_received_ls)),sms_received_ls, width=width, tick_label = labels)\n",
    "plt.bar(np.arange(len(sms_not_received_ls))+ width, sms_not_received_ls, width=width)\n",
    "plt.title(\"People who show up vs don't show up in case of receiving or not receiving SMS\")\n",
    "plt.xlabel(\"sms_received\")\n",
    "plt.ylabel(\"count of patients\")\n",
    "plt.legend(legend_labels)\n",
    "\n",
    "plt.show()"
   ]
  },
  {
   "cell_type": "markdown",
   "metadata": {},
   "source": [
    "> There are many people who don't receive the sms but show up."
   ]
  },
  {
   "cell_type": "markdown",
   "metadata": {},
   "source": [
    "#### Q5 what is the distribution of appointments among days of week (Monday-Friday)?"
   ]
  },
  {
   "cell_type": "code",
   "execution_count": 73,
   "metadata": {},
   "outputs": [
    {
     "name": "stdout",
     "output_type": "stream",
     "text": [
      "<class 'pandas.core.frame.DataFrame'>\n",
      "Int64Index: 110526 entries, 0 to 110526\n",
      "Data columns (total 14 columns):\n",
      " #   Column          Non-Null Count   Dtype         \n",
      "---  ------          --------------   -----         \n",
      " 0   patientid       110526 non-null  object        \n",
      " 1   appointmentid   110526 non-null  object        \n",
      " 2   gender          110526 non-null  category      \n",
      " 3   scheduledday    110526 non-null  datetime64[ns]\n",
      " 4   appointmentday  110526 non-null  datetime64[ns]\n",
      " 5   age             110526 non-null  int64         \n",
      " 6   neighbourhood   110526 non-null  category      \n",
      " 7   scholarship     110526 non-null  category      \n",
      " 8   hipertension    110526 non-null  category      \n",
      " 9   diabetes        110526 non-null  category      \n",
      " 10  alcoholism      110526 non-null  category      \n",
      " 11  handcap         110526 non-null  category      \n",
      " 12  sms_received    110526 non-null  category      \n",
      " 13  no_show         110526 non-null  object        \n",
      "dtypes: category(8), datetime64[ns](2), int64(1), object(3)\n",
      "memory usage: 6.7+ MB\n"
     ]
    }
   ],
   "source": [
    "df_analysis.info()"
   ]
  },
  {
   "cell_type": "code",
   "execution_count": 74,
   "metadata": {},
   "outputs": [
    {
     "data": {
      "text/plain": [
       "Tuesday      26168\n",
       "Wednesday    24262\n",
       "Monday       23084\n",
       "Friday       18915\n",
       "Thursday     18073\n",
       "Saturday        24\n",
       "Name: dayOfWeek, dtype: int64"
      ]
     },
     "execution_count": 74,
     "metadata": {},
     "output_type": "execute_result"
    }
   ],
   "source": [
    "df_analysis['dayOfWeek'] = df_analysis['scheduledday'].dt.day_name() \n",
    "scheduled_days = df_analysis['dayOfWeek'].value_counts()\n",
    "scheduled_days"
   ]
  },
  {
   "cell_type": "code",
   "execution_count": 75,
   "metadata": {
    "scrolled": true
   },
   "outputs": [
    {
     "data": {
      "text/plain": [
       "<AxesSubplot:title={'center':' Distribution of appointments among days of week'}>"
      ]
     },
     "execution_count": 75,
     "metadata": {},
     "output_type": "execute_result"
    },
    {
     "data": {
      "image/png": "[encoded data removed]",
      "text/plain": [
       "<Figure size 432x288 with 1 Axes>"
      ]
     },
     "metadata": {
      "needs_background": "light"
     },
     "output_type": "display_data"
    }
   ],
   "source": [
    "scheduled_days.plot(kind=\"bar\",rot=0, title =\" Distribution of appointments among days of week\")"
   ]
  },
  {
   "cell_type": "markdown",
   "metadata": {},
   "source": [
    "> From the above calculations, \n",
    "> <li>we can say that Tuesday has the most sheduled appoitments.</li> \n",
    "> <li>we can say that Saturday has the least sheduled appoitments.</li>  "
   ]
  },
  {
   "cell_type": "markdown",
   "metadata": {},
   "source": [
    "#### Q6 what the relation between show and no-show appointments and days of week?"
   ]
  },
  {
   "cell_type": "code",
   "execution_count": 76,
   "metadata": {},
   "outputs": [
    {
     "data": {
      "text/plain": [
       "Tuesday      20877\n",
       "Wednesday    19383\n",
       "Monday       18523\n",
       "Friday       15028\n",
       "Thursday     14373\n",
       "Saturday        23\n",
       "Name: dayOfWeek, dtype: int64"
      ]
     },
     "execution_count": 76,
     "metadata": {},
     "output_type": "execute_result"
    }
   ],
   "source": [
    "show_days = df_analysis[df_analysis.no_show == 'No'].dayOfWeek\n",
    "show_days.value_counts()"
   ]
  },
  {
   "cell_type": "code",
   "execution_count": 77,
   "metadata": {
    "scrolled": false
   },
   "outputs": [
    {
     "data": {
      "text/plain": [
       "Tuesday      5291\n",
       "Wednesday    4879\n",
       "Monday       4561\n",
       "Friday       3887\n",
       "Thursday     3700\n",
       "Saturday        1\n",
       "Name: dayOfWeek, dtype: int64"
      ]
     },
     "execution_count": 77,
     "metadata": {},
     "output_type": "execute_result"
    }
   ],
   "source": [
    "no_show_days = df_analysis[df_analysis.no_show == 'Yes'].dayOfWeek\n",
    "no_show_days.value_counts()"
   ]
  },
  {
   "cell_type": "markdown",
   "metadata": {},
   "source": [
    "#### Q7 what the relation between gender and Show up?"
   ]
  },
  {
   "cell_type": "code",
   "execution_count": 78,
   "metadata": {},
   "outputs": [
    {
     "data": {
      "text/plain": [
       "F    57245\n",
       "M    30962\n",
       "Name: gender, dtype: int64"
      ]
     },
     "execution_count": 78,
     "metadata": {},
     "output_type": "execute_result"
    }
   ],
   "source": [
    "show_up_gender = df_analysis[df_analysis.no_show == 'No'].gender\n",
    "show_up_gender.value_counts()"
   ]
  },
  {
   "cell_type": "code",
   "execution_count": 79,
   "metadata": {
    "scrolled": true
   },
   "outputs": [
    {
     "data": {
      "text/plain": [
       "F    14594\n",
       "M     7725\n",
       "Name: gender, dtype: int64"
      ]
     },
     "execution_count": 79,
     "metadata": {},
     "output_type": "execute_result"
    }
   ],
   "source": [
    "NO_show_up_gender = df_analysis[df_analysis.no_show == 'Yes'].gender\n",
    "NO_show_up_gender.value_counts()"
   ]
  },
  {
   "cell_type": "code",
   "execution_count": 80,
   "metadata": {},
   "outputs": [
    {
     "data": {
      "text/plain": [
       "(71839, 15)"
      ]
     },
     "execution_count": 80,
     "metadata": {},
     "output_type": "execute_result"
    }
   ],
   "source": [
    "female = df_analysis[df_analysis.gender == 'F']\n",
    "female.shape"
   ]
  },
  {
   "cell_type": "code",
   "execution_count": 81,
   "metadata": {
    "scrolled": true
   },
   "outputs": [
    {
     "data": {
      "text/plain": [
       "(38687, 15)"
      ]
     },
     "execution_count": 81,
     "metadata": {},
     "output_type": "execute_result"
    }
   ],
   "source": [
    "male = df_analysis[df_analysis.gender == 'M']\n",
    "male.shape"
   ]
  },
  {
   "cell_type": "markdown",
   "metadata": {},
   "source": [
    "> There are females more than Males.\n",
    "> <li>There 79 % of females show up</li>\n",
    "> <li>There 80 % of females show up</li>"
   ]
  },
  {
   "cell_type": "markdown",
   "metadata": {},
   "source": [
    "#### Q8 what the relation between age and Show up?"
   ]
  },
  {
   "cell_type": "code",
   "execution_count": 82,
   "metadata": {},
   "outputs": [],
   "source": [
    "no_show_up_age = df_analysis[df_analysis.no_show == 'Yes'].age\n",
    "show_up_age = df_analysis[df_analysis.no_show == 'No'].age"
   ]
  },
  {
   "cell_type": "code",
   "execution_count": 83,
   "metadata": {
    "scrolled": true
   },
   "outputs": [
    {
     "data": {
      "text/plain": [
       "<AxesSubplot:>"
      ]
     },
     "execution_count": 83,
     "metadata": {},
     "output_type": "execute_result"
    },
    {
     "data": {
      "image/png": "[encoded data removed]",
      "text/plain": [
       "<Figure size 432x288 with 1 Axes>"
      ]
     },
     "metadata": {
      "needs_background": "light"
     },
     "output_type": "display_data"
    }
   ],
   "source": [
    "show_up_age.hist()"
   ]
  },
  {
   "cell_type": "code",
   "execution_count": 84,
   "metadata": {
    "scrolled": true
   },
   "outputs": [
    {
     "data": {
      "text/plain": [
       "<AxesSubplot:>"
      ]
     },
     "execution_count": 84,
     "metadata": {},
     "output_type": "execute_result"
    },
    {
     "data": {
      "image/png": "[encoded data removed]",
      "text/plain": [
       "<Figure size 432x288 with 1 Axes>"
      ]
     },
     "metadata": {
      "needs_background": "light"
     },
     "output_type": "display_data"
    }
   ],
   "source": [
    "no_show_up_age.hist()"
   ]
  },
  {
   "cell_type": "markdown",
   "metadata": {},
   "source": [
    "> From this histograms: \n",
    "><li> The people who show up in age range [0 : 10] [45 : 58] </li>   \n",
    "><li> The most of people who don't show up in age range [0 : 12] and [23 : 35]  </li>   "
   ]
  },
  {
   "cell_type": "markdown",
   "metadata": {},
   "source": [
    "#### Q7 What the factors which help to predict if a patient will show up for the scheduled appointment?"
   ]
  },
  {
   "cell_type": "markdown",
   "metadata": {},
   "source": [
    "> From above questions and answers, I can suggest that the show up depends on the region or neighbourhood, and the day of the week. "
   ]
  },
  {
   "cell_type": "markdown",
   "metadata": {},
   "source": [
    "<a id='conclusions'></a>\n",
    "## Conclusions\n",
    ">From above questions and answers, we can summarize the following:\n",
    "> <li> The diseases of hypertension, diabetes, alcoholism, and Handicap don't correlate positively or negatively to determine who will attend in the scheduled appointment or not (see Q1).</li> \n",
    "><li> There is a correlation between appointment attendance and the neighbourhood, since the JARDIM CAMBURI Neighbourhood has the highest number of patients who show up</li>\n",
    "><li>There is a relationship between the Neighbourhood and scholarship columns, The ILHA DO PRÍNCIPE neighbourhood has the highest number of people who participated in the Bolsa Família program.</li>\n",
    "><li>There is a negative correlation between the columns of no_show and scholarship which indicates participation in the the Bolsa Família program</li>\n",
    "><li>The SMS is not important to indicate show up or no. </li>\n",
    "><li>There is a relation beween day_of_week and no)show column, since we can say that Tuesday has the most scheduled appointments and Saturday has the least scheduled appointments.</li>\n",
    "><li>The gender doesn't affect on the no_show column</li>\n"
   ]
  },
  {
   "cell_type": "code",
   "execution_count": null,
   "metadata": {},
   "outputs": [],
   "source": []
  }
 ],
 "metadata": {
  "kernelspec": {
   "display_name": "Python 3",
   "language": "python",
   "name": "python3"
  },
  "language_info": {
   "codemirror_mode": {
    "name": "ipython",
    "version": 3
   },
   "file_extension": ".py",
   "mimetype": "text/x-python",
   "name": "python",
   "nbconvert_exporter": "python",
   "pygments_lexer": "ipython3",
   "version": "3.8.5"
  }
 },
 "nbformat": 4,
 "nbformat_minor": 2
}
